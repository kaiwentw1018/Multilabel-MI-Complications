{
 "cells": [
  {
   "cell_type": "code",
   "execution_count": 1,
   "metadata": {
    "id": "SNagBe_2w-0G"
   },
   "outputs": [],
   "source": [
    "# Import the packages needed\n",
    "import seaborn as sns\n",
    "\n",
    "import pandas as pd\n",
    "import numpy as np\n",
    "import matplotlib.pyplot as plt\n",
    "\n",
    "from sklearn.metrics import mean_squared_error\n",
    "import math\n",
    "import io"
   ]
  },
  {
   "cell_type": "code",
   "execution_count": 2,
   "metadata": {
    "id": "qR1pkiVefPxL"
   },
   "outputs": [],
   "source": [
    "# Load the MI complication dataset\n",
    "df = pd.read_csv(\"Myocardial_infarction_complications_Database.csv\")"
   ]
  },
  {
   "cell_type": "markdown",
   "metadata": {
    "id": "MOPLsMjWi19F"
   },
   "source": [
    "# **1. Remove features with significant missingness (>25%)**"
   ]
  },
  {
   "cell_type": "code",
   "execution_count": 3,
   "metadata": {
    "colab": {
     "base_uri": "https://localhost:8080/"
    },
    "id": "peQ8yiE9f6vd",
    "outputId": "8d294d48-07fd-4d1f-c387-a652aa6901cc"
   },
   "outputs": [
    {
     "name": "stdout",
     "output_type": "stream",
     "text": [
      "Total percent of missing values: 9.396470588235294\n"
     ]
    }
   ],
   "source": [
    "percent_missing = df.isnull().sum() * 100 / len(df)\n",
    "missing_value_df = pd.DataFrame({'index': range(1, len(df.columns)+1),\n",
    "                                'column_name': df.columns,\n",
    "                                 'percent_missing': percent_missing})\n",
    "original_columns = df.columns.copy()\n",
    "print(\"Total percent of missing values:\", df.isnull().sum().sum()/len(df))"
   ]
  },
  {
   "cell_type": "code",
   "execution_count": 4,
   "metadata": {
    "colab": {
     "base_uri": "https://localhost:8080/"
    },
    "id": "dYdSxhncgcuy",
    "outputId": "2e3eb70a-edff-4849-d27e-66b549738844"
   },
   "outputs": [
    {
     "name": "stdout",
     "output_type": "stream",
     "text": [
      "Number of columns originally: 124\n",
      "Number of columns after cleaning: 117\n",
      "Total percent of missing values: 4.987058823529412\n",
      "Features excluded are: \n",
      " Index(['IBS_NASL', 'S_AD_KBRIG', 'D_AD_KBRIG', 'KFK_BLOOD', 'NA_KB',\n",
      "       'NOT_NA_KB', 'LID_KB'],\n",
      "      dtype='object')\n"
     ]
    }
   ],
   "source": [
    "# Removing features with more than 25 percent missing values\n",
    "df2 = df.copy()\n",
    "print(\"Number of columns originally:\", len(df2.columns))\n",
    "percent_missing = df2.isnull().sum() * 100 / len(df2)\n",
    "new = []\n",
    "for i in range(len(df.columns)):\n",
    "    if percent_missing[i] > 25:\n",
    "        new.append(i)\n",
    "\n",
    "df2.drop(df2.columns[new], axis=1, inplace=True)\n",
    "print(\"Number of columns after cleaning:\", len(df2.columns))\n",
    "print(\"Total percent of missing values:\", df2.isnull().sum().sum()/len(df2))\n",
    "percent_missing = df2.isnull().sum() * 100 / len(df2)\n",
    "missing_value_df2 = pd.DataFrame({'index': range(1, len(df2.columns)+1),\n",
    "                                'column_name': df2.columns,\n",
    "                                 'percent_missing': percent_missing})\n",
    "print(\"Features excluded are: \\n\", original_columns[new])"
   ]
  },
  {
   "cell_type": "markdown",
   "metadata": {
    "id": "gmbgwkqg2lDA"
   },
   "source": [
    "# **2. Feature selection**"
   ]
  },
  {
   "cell_type": "code",
   "execution_count": 6,
   "metadata": {
    "id": "7CPjMHByywW4"
   },
   "outputs": [
    {
     "name": "stdout",
     "output_type": "stream",
     "text": [
      "Collecting probatus==1.8.4\n",
      "  Downloading probatus-1.8.4-py3-none-any.whl (115 kB)\n",
      "Requirement already satisfied: pandas>=1.0.0 in c:\\users\\kaiwe\\anaconda3\\lib\\site-packages (from probatus==1.8.4) (1.2.4)\n",
      "Requirement already satisfied: scipy>=1.4.0 in c:\\users\\kaiwe\\anaconda3\\lib\\site-packages (from probatus==1.8.4) (1.6.2)\n",
      "Requirement already satisfied: numpy>=1.19.0 in c:\\users\\kaiwe\\anaconda3\\lib\\site-packages (from probatus==1.8.4) (1.19.5)\n",
      "Requirement already satisfied: tqdm>=4.41.0 in c:\\users\\kaiwe\\anaconda3\\lib\\site-packages (from probatus==1.8.4) (4.59.0)\n",
      "Requirement already satisfied: joblib>=0.13.2 in c:\\users\\kaiwe\\anaconda3\\lib\\site-packages (from probatus==1.8.4) (1.0.1)\n",
      "Requirement already satisfied: shap>=0.38.1 in c:\\users\\kaiwe\\anaconda3\\lib\\site-packages (from probatus==1.8.4) (0.39.0)\n",
      "Requirement already satisfied: matplotlib>=3.1.1 in c:\\users\\kaiwe\\anaconda3\\lib\\site-packages (from probatus==1.8.4) (3.3.4)\n",
      "Requirement already satisfied: scikit-learn>=0.22.2 in c:\\users\\kaiwe\\anaconda3\\lib\\site-packages (from probatus==1.8.4) (0.24.1)\n",
      "Requirement already satisfied: python-dateutil>=2.1 in c:\\users\\kaiwe\\anaconda3\\lib\\site-packages (from matplotlib>=3.1.1->probatus==1.8.4) (2.8.1)\n",
      "Requirement already satisfied: pyparsing!=2.0.4,!=2.1.2,!=2.1.6,>=2.0.3 in c:\\users\\kaiwe\\anaconda3\\lib\\site-packages (from matplotlib>=3.1.1->probatus==1.8.4) (2.4.7)\n",
      "Requirement already satisfied: cycler>=0.10 in c:\\users\\kaiwe\\anaconda3\\lib\\site-packages (from matplotlib>=3.1.1->probatus==1.8.4) (0.10.0)\n",
      "Requirement already satisfied: kiwisolver>=1.0.1 in c:\\users\\kaiwe\\anaconda3\\lib\\site-packages (from matplotlib>=3.1.1->probatus==1.8.4) (1.3.1)\n",
      "Requirement already satisfied: pillow>=6.2.0 in c:\\users\\kaiwe\\anaconda3\\lib\\site-packages (from matplotlib>=3.1.1->probatus==1.8.4) (8.2.0)\n",
      "Requirement already satisfied: six in c:\\users\\kaiwe\\anaconda3\\lib\\site-packages (from cycler>=0.10->matplotlib>=3.1.1->probatus==1.8.4) (1.15.0)\n",
      "Requirement already satisfied: pytz>=2017.3 in c:\\users\\kaiwe\\anaconda3\\lib\\site-packages (from pandas>=1.0.0->probatus==1.8.4) (2021.1)\n",
      "Requirement already satisfied: threadpoolctl>=2.0.0 in c:\\users\\kaiwe\\anaconda3\\lib\\site-packages (from scikit-learn>=0.22.2->probatus==1.8.4) (2.1.0)\n",
      "Requirement already satisfied: numba in c:\\users\\kaiwe\\anaconda3\\lib\\site-packages (from shap>=0.38.1->probatus==1.8.4) (0.53.1)\n",
      "Requirement already satisfied: cloudpickle in c:\\users\\kaiwe\\anaconda3\\lib\\site-packages (from shap>=0.38.1->probatus==1.8.4) (1.6.0)\n",
      "Requirement already satisfied: slicer==0.0.7 in c:\\users\\kaiwe\\anaconda3\\lib\\site-packages (from shap>=0.38.1->probatus==1.8.4) (0.0.7)\n",
      "Requirement already satisfied: llvmlite<0.37,>=0.36.0rc1 in c:\\users\\kaiwe\\anaconda3\\lib\\site-packages (from numba->shap>=0.38.1->probatus==1.8.4) (0.36.0)\n",
      "Requirement already satisfied: setuptools in c:\\users\\kaiwe\\anaconda3\\lib\\site-packages (from numba->shap>=0.38.1->probatus==1.8.4) (52.0.0.post20210125)\n",
      "Installing collected packages: probatus\n",
      "Successfully installed probatus-1.8.4\n",
      "Collecting lightgbm==3.2.1\n",
      "  Downloading lightgbm-3.2.1-py3-none-win_amd64.whl (1.0 MB)\n",
      "Requirement already satisfied: numpy in c:\\users\\kaiwe\\anaconda3\\lib\\site-packages (from lightgbm==3.2.1) (1.19.5)\n",
      "Requirement already satisfied: scikit-learn!=0.22.0 in c:\\users\\kaiwe\\anaconda3\\lib\\site-packages (from lightgbm==3.2.1) (0.24.1)\n",
      "Requirement already satisfied: scipy in c:\\users\\kaiwe\\anaconda3\\lib\\site-packages (from lightgbm==3.2.1) (1.6.2)\n",
      "Requirement already satisfied: wheel in c:\\users\\kaiwe\\anaconda3\\lib\\site-packages (from lightgbm==3.2.1) (0.36.2)\n",
      "Requirement already satisfied: threadpoolctl>=2.0.0 in c:\\users\\kaiwe\\anaconda3\\lib\\site-packages (from scikit-learn!=0.22.0->lightgbm==3.2.1) (2.1.0)\n",
      "Requirement already satisfied: joblib>=0.11 in c:\\users\\kaiwe\\anaconda3\\lib\\site-packages (from scikit-learn!=0.22.0->lightgbm==3.2.1) (1.0.1)\n",
      "Installing collected packages: lightgbm\n",
      "Successfully installed lightgbm-3.2.1\n"
     ]
    }
   ],
   "source": [
    "# Import packages needed to run this section of the notebook\n",
    "#%%capture\n",
    "!pip install probatus==1.8.4\n",
    "!pip install lightgbm==3.2.1\n",
    "\n",
    "from probatus.feature_elimination import ShapRFECV, EarlyStoppingShapRFECV\n",
    "from sklearn.datasets import make_classification\n",
    "from sklearn.model_selection import train_test_split, RandomizedSearchCV\n",
    "import lightgbm"
   ]
  },
  {
   "cell_type": "code",
   "execution_count": 7,
   "metadata": {
    "colab": {
     "base_uri": "https://localhost:8080/",
     "height": 299
    },
    "id": "p544w4zpjxKR",
    "outputId": "84595bce-86bd-4f40-8650-e8c795eddebb"
   },
   "outputs": [
    {
     "data": {
      "text/html": [
       "<div>\n",
       "<style scoped>\n",
       "    .dataframe tbody tr th:only-of-type {\n",
       "        vertical-align: middle;\n",
       "    }\n",
       "\n",
       "    .dataframe tbody tr th {\n",
       "        vertical-align: top;\n",
       "    }\n",
       "\n",
       "    .dataframe thead th {\n",
       "        text-align: right;\n",
       "    }\n",
       "</style>\n",
       "<table border=\"1\" class=\"dataframe\">\n",
       "  <thead>\n",
       "    <tr style=\"text-align: right;\">\n",
       "      <th></th>\n",
       "      <th>ID</th>\n",
       "      <th>AGE</th>\n",
       "      <th>SEX</th>\n",
       "      <th>INF_ANAM</th>\n",
       "      <th>STENOK_AN</th>\n",
       "      <th>FK_STENOK</th>\n",
       "      <th>IBS_POST</th>\n",
       "      <th>GB</th>\n",
       "      <th>SIM_GIPERT</th>\n",
       "      <th>DLIT_AG</th>\n",
       "      <th>...</th>\n",
       "      <th>JELUD_TAH</th>\n",
       "      <th>FIBR_JELUD</th>\n",
       "      <th>A_V_BLOK</th>\n",
       "      <th>OTEK_LANC</th>\n",
       "      <th>RAZRIV</th>\n",
       "      <th>DRESSLER</th>\n",
       "      <th>ZSN</th>\n",
       "      <th>REC_IM</th>\n",
       "      <th>P_IM_STEN</th>\n",
       "      <th>LET_IS</th>\n",
       "    </tr>\n",
       "  </thead>\n",
       "  <tbody>\n",
       "    <tr>\n",
       "      <th>0</th>\n",
       "      <td>1</td>\n",
       "      <td>77.0</td>\n",
       "      <td>1</td>\n",
       "      <td>2.0</td>\n",
       "      <td>1.0</td>\n",
       "      <td>1.0</td>\n",
       "      <td>2.0</td>\n",
       "      <td>3.0</td>\n",
       "      <td>0.0</td>\n",
       "      <td>7.0</td>\n",
       "      <td>...</td>\n",
       "      <td>0</td>\n",
       "      <td>0</td>\n",
       "      <td>0</td>\n",
       "      <td>0</td>\n",
       "      <td>0</td>\n",
       "      <td>0</td>\n",
       "      <td>0</td>\n",
       "      <td>0</td>\n",
       "      <td>0</td>\n",
       "      <td>0</td>\n",
       "    </tr>\n",
       "    <tr>\n",
       "      <th>1</th>\n",
       "      <td>2</td>\n",
       "      <td>55.0</td>\n",
       "      <td>1</td>\n",
       "      <td>1.0</td>\n",
       "      <td>0.0</td>\n",
       "      <td>0.0</td>\n",
       "      <td>0.0</td>\n",
       "      <td>0.0</td>\n",
       "      <td>0.0</td>\n",
       "      <td>0.0</td>\n",
       "      <td>...</td>\n",
       "      <td>0</td>\n",
       "      <td>0</td>\n",
       "      <td>0</td>\n",
       "      <td>0</td>\n",
       "      <td>0</td>\n",
       "      <td>0</td>\n",
       "      <td>0</td>\n",
       "      <td>0</td>\n",
       "      <td>0</td>\n",
       "      <td>0</td>\n",
       "    </tr>\n",
       "    <tr>\n",
       "      <th>2</th>\n",
       "      <td>3</td>\n",
       "      <td>52.0</td>\n",
       "      <td>1</td>\n",
       "      <td>0.0</td>\n",
       "      <td>0.0</td>\n",
       "      <td>0.0</td>\n",
       "      <td>2.0</td>\n",
       "      <td>2.0</td>\n",
       "      <td>0.0</td>\n",
       "      <td>2.0</td>\n",
       "      <td>...</td>\n",
       "      <td>0</td>\n",
       "      <td>0</td>\n",
       "      <td>0</td>\n",
       "      <td>0</td>\n",
       "      <td>0</td>\n",
       "      <td>0</td>\n",
       "      <td>0</td>\n",
       "      <td>0</td>\n",
       "      <td>0</td>\n",
       "      <td>0</td>\n",
       "    </tr>\n",
       "    <tr>\n",
       "      <th>3</th>\n",
       "      <td>4</td>\n",
       "      <td>68.0</td>\n",
       "      <td>0</td>\n",
       "      <td>0.0</td>\n",
       "      <td>0.0</td>\n",
       "      <td>0.0</td>\n",
       "      <td>2.0</td>\n",
       "      <td>2.0</td>\n",
       "      <td>0.0</td>\n",
       "      <td>3.0</td>\n",
       "      <td>...</td>\n",
       "      <td>0</td>\n",
       "      <td>0</td>\n",
       "      <td>0</td>\n",
       "      <td>0</td>\n",
       "      <td>0</td>\n",
       "      <td>0</td>\n",
       "      <td>1</td>\n",
       "      <td>0</td>\n",
       "      <td>0</td>\n",
       "      <td>0</td>\n",
       "    </tr>\n",
       "    <tr>\n",
       "      <th>4</th>\n",
       "      <td>5</td>\n",
       "      <td>60.0</td>\n",
       "      <td>1</td>\n",
       "      <td>0.0</td>\n",
       "      <td>0.0</td>\n",
       "      <td>0.0</td>\n",
       "      <td>2.0</td>\n",
       "      <td>3.0</td>\n",
       "      <td>0.0</td>\n",
       "      <td>7.0</td>\n",
       "      <td>...</td>\n",
       "      <td>0</td>\n",
       "      <td>0</td>\n",
       "      <td>0</td>\n",
       "      <td>0</td>\n",
       "      <td>0</td>\n",
       "      <td>0</td>\n",
       "      <td>0</td>\n",
       "      <td>0</td>\n",
       "      <td>0</td>\n",
       "      <td>0</td>\n",
       "    </tr>\n",
       "  </tbody>\n",
       "</table>\n",
       "<p>5 rows × 117 columns</p>\n",
       "</div>"
      ],
      "text/plain": [
       "   ID   AGE  SEX  INF_ANAM  STENOK_AN  FK_STENOK  IBS_POST   GB  SIM_GIPERT  \\\n",
       "0   1  77.0    1       2.0        1.0        1.0       2.0  3.0         0.0   \n",
       "1   2  55.0    1       1.0        0.0        0.0       0.0  0.0         0.0   \n",
       "2   3  52.0    1       0.0        0.0        0.0       2.0  2.0         0.0   \n",
       "3   4  68.0    0       0.0        0.0        0.0       2.0  2.0         0.0   \n",
       "4   5  60.0    1       0.0        0.0        0.0       2.0  3.0         0.0   \n",
       "\n",
       "   DLIT_AG  ...  JELUD_TAH  FIBR_JELUD  A_V_BLOK  OTEK_LANC  RAZRIV  DRESSLER  \\\n",
       "0      7.0  ...          0           0         0          0       0         0   \n",
       "1      0.0  ...          0           0         0          0       0         0   \n",
       "2      2.0  ...          0           0         0          0       0         0   \n",
       "3      3.0  ...          0           0         0          0       0         0   \n",
       "4      7.0  ...          0           0         0          0       0         0   \n",
       "\n",
       "   ZSN  REC_IM  P_IM_STEN  LET_IS  \n",
       "0    0       0          0       0  \n",
       "1    0       0          0       0  \n",
       "2    0       0          0       0  \n",
       "3    1       0          0       0  \n",
       "4    0       0          0       0  \n",
       "\n",
       "[5 rows x 117 columns]"
      ]
     },
     "execution_count": 7,
     "metadata": {},
     "output_type": "execute_result"
    }
   ],
   "source": [
    "df2.head()"
   ]
  },
  {
   "cell_type": "code",
   "execution_count": 8,
   "metadata": {
    "colab": {
     "base_uri": "https://localhost:8080/"
    },
    "id": "iAJCxKMeOBbR",
    "outputId": "301764ae-f9c0-45cb-964b-a573eb0ca638"
   },
   "outputs": [
    {
     "name": "stdout",
     "output_type": "stream",
     "text": [
      "['AGE', 'SEX', 'INF_ANAM', 'STENOK_AN', 'FK_STENOK', 'IBS_POST', 'GB', 'SIM_GIPERT', 'DLIT_AG', 'ZSN_A', 'nr_11', 'nr_01', 'nr_02', 'nr_03', 'nr_04', 'nr_07', 'nr_08', 'np_01', 'np_04', 'np_05', 'np_07', 'np_08', 'np_09', 'np_10', 'endocr_01', 'endocr_02', 'endocr_03', 'zab_leg_01', 'zab_leg_02', 'zab_leg_03', 'zab_leg_04', 'zab_leg_06', 'S_AD_ORIT', 'D_AD_ORIT', 'O_L_POST', 'K_SH_POST', 'MP_TP_POST', 'SVT_POST', 'GT_POST', 'FIB_G_POST', 'ant_im', 'lat_im', 'inf_im', 'post_im', 'IM_PG_P', 'ritm_ecg_p_01', 'ritm_ecg_p_02', 'ritm_ecg_p_04', 'ritm_ecg_p_06', 'ritm_ecg_p_07', 'ritm_ecg_p_08', 'n_r_ecg_p_01', 'n_r_ecg_p_02', 'n_r_ecg_p_03', 'n_r_ecg_p_04', 'n_r_ecg_p_05', 'n_r_ecg_p_06', 'n_r_ecg_p_08', 'n_r_ecg_p_09', 'n_r_ecg_p_10', 'n_p_ecg_p_01', 'n_p_ecg_p_03', 'n_p_ecg_p_04', 'n_p_ecg_p_05', 'n_p_ecg_p_06', 'n_p_ecg_p_07', 'n_p_ecg_p_08', 'n_p_ecg_p_09', 'n_p_ecg_p_10', 'n_p_ecg_p_11', 'n_p_ecg_p_12', 'fibr_ter_01', 'fibr_ter_02', 'fibr_ter_03', 'fibr_ter_05', 'fibr_ter_06', 'fibr_ter_07', 'fibr_ter_08', 'GIPO_K', 'K_BLOOD', 'GIPER_NA', 'NA_BLOOD', 'ALT_BLOOD', 'AST_BLOOD', 'L_BLOOD', 'ROE', 'TIME_B_S', 'R_AB_1_n', 'R_AB_2_n', 'R_AB_3_n', 'NITR_S', 'NA_R_1_n', 'NA_R_2_n', 'NA_R_3_n', 'NOT_NA_1_n', 'NOT_NA_2_n', 'NOT_NA_3_n', 'LID_S_n', 'B_BLOK_S_n', 'ANT_CA_S_n', 'GEPAR_S_n', 'ASP_S_n', 'TIKL_S_n', 'TRENT_S_n']\n"
     ]
    }
   ],
   "source": [
    "feature_names = df2.columns[1:105].tolist()\n",
    "predictions = df2.iloc[:, 105:]\n",
    "y = np.array(predictions)\n",
    "X = np.array(df2.iloc[:, 1:105])\n",
    "\n",
    "label1 = []\n",
    "label2 = []\n",
    "label3 = []\n",
    "label4 = []\n",
    "label5 = []\n",
    "label6 = []\n",
    "label7 = []\n",
    "label8 = []\n",
    "label9 = []\n",
    "label10 = []\n",
    "label11 = []\n",
    "label12 = []\n",
    "\n",
    "labels = [label1, label2, label3, label4, label5, label6, label7, label8, label9, label10, label11, label12]\n",
    "print(feature_names)"
   ]
  },
  {
   "cell_type": "code",
   "execution_count": 9,
   "metadata": {
    "colab": {
     "base_uri": "https://localhost:8080/"
    },
    "id": "dtvPLUL03Hac",
    "outputId": "49501748-c1f0-4c85-e820-d58afbd9cc4e"
   },
   "outputs": [
    {
     "data": {
      "text/plain": [
       "FIBR_PREDS    0\n",
       "PREDS_TAH     0\n",
       "JELUD_TAH     0\n",
       "FIBR_JELUD    0\n",
       "A_V_BLOK      0\n",
       "OTEK_LANC     0\n",
       "RAZRIV        0\n",
       "DRESSLER      0\n",
       "ZSN           0\n",
       "REC_IM        0\n",
       "P_IM_STEN     0\n",
       "LET_IS        0\n",
       "dtype: int64"
      ]
     },
     "execution_count": 9,
     "metadata": {},
     "output_type": "execute_result"
    }
   ],
   "source": [
    "df2.iloc[:, 105:].isnull().sum()"
   ]
  },
  {
   "cell_type": "code",
   "execution_count": 10,
   "metadata": {
    "id": "UMfHVXBqOzcT"
   },
   "outputs": [],
   "source": [
    "# Handles categorical and missing values\n",
    "clf = lightgbm.LGBMClassifier(n_estimators=200, max_depth=3)\n",
    "\n",
    "# Indices of columns to remove for each label due to leakiness\n",
    "indices = [[36, 46, 55, 56], [37, 49, 57], [38, 49, 58], [39, 59], [64], [34], [], [], [], [40, 41, 42, 43, 44], [], []]\n",
    "\n",
    "shap_elimination = {}\n",
    "report = {}\n",
    "\n",
    "for i in range(y.shape[1]-1):\n",
    "        shap_elimination[i] = EarlyStoppingShapRFECV(clf, step=0.1, scoring='roc_auc', eval_metric='auc', early_stopping_rounds=5)\n",
    "        Xf = np.delete(X, indices[i], axis=1)\n",
    "        report[i] = shap_elimination[i].fit_compute(Xf, y[:,i], check_additivity=False)\n",
    "        #print('Done')"
   ]
  },
  {
   "cell_type": "code",
   "execution_count": 11,
   "metadata": {
    "colab": {
     "base_uri": "https://localhost:8080/",
     "height": 459
    },
    "id": "p9KvpLeGPZSE",
    "outputId": "57472ec1-3a4f-47e1-ed82-557cb9104283"
   },
   "outputs": [
    {
     "data": {
      "image/png": "[encoded data removed]",
      "text/plain": [
       "<Figure size 1728x576 with 1 Axes>"
      ]
     },
     "metadata": {
      "needs_background": "light"
     },
     "output_type": "display_data"
    }
   ],
   "source": [
    "# Make plots\n",
    "performance_plot = shap_elimination[10].plot(figsize=(24, 8), show=True)\n",
    "\n",
    "# Get final feature set\n",
    "final_features_set = shap_elimination[1].get_reduced_features_set(num_features=22)"
   ]
  },
  {
   "cell_type": "code",
   "execution_count": 12,
   "metadata": {
    "colab": {
     "base_uri": "https://localhost:8080/"
    },
    "id": "Mz7PzezvV_GV",
    "outputId": "2cf5b8cd-df87-47ec-db75-5df75df6ec04"
   },
   "outputs": [
    {
     "name": "stdout",
     "output_type": "stream",
     "text": [
      "['AGE', 'SIM_GIPERT', 'DLIT_AG', 'nr_11', 'fibr_ter_07', 'nr_04', 'GIPO_K', 'K_BLOOD', 'NA_BLOOD', 'ALT_BLOOD', 'np_05', 'AST_BLOOD', 'ROE', 'TIME_B_S', 'endocr_01', 'R_AB_2_n', 'NA_R_2_n', 'S_AD_ORIT', 'D_AD_ORIT', 'O_L_POST', 'inf_im', 'n_r_ecg_p_08']\n"
     ]
    }
   ],
   "source": [
    "print([feature_names[i] for i in final_features_set])\n",
    "\n",
    "# Get the most impactful features for all\n",
    "final_features_set0 = shap_elimination[0].get_reduced_features_set(num_features=16)\n",
    "final_features_set1 = shap_elimination[1].get_reduced_features_set(num_features=17)\n",
    "final_features_set2 = shap_elimination[2].get_reduced_features_set(num_features=8)\n",
    "final_features_set3 = shap_elimination[3].get_reduced_features_set(num_features=18)\n",
    "final_features_set4 = shap_elimination[4].get_reduced_features_set(num_features=14)\n",
    "final_features_set5 = shap_elimination[5].get_reduced_features_set(num_features=14)\n",
    "final_features_set6 = shap_elimination[6].get_reduced_features_set(num_features=7)\n",
    "final_features_set7 = shap_elimination[7].get_reduced_features_set(num_features=7)\n",
    "final_features_set8 = shap_elimination[8].get_reduced_features_set(num_features=19)\n",
    "final_features_set9 = shap_elimination[9].get_reduced_features_set(num_features=7)\n",
    "final_features_set10 = shap_elimination[10].get_reduced_features_set(num_features=9)\n",
    "\n",
    "final_features_set = final_features_set0 + final_features_set1 + final_features_set2 + final_features_set3 + final_features_set4 + final_features_set5 + final_features_set6 + final_features_set7 + final_features_set8 + final_features_set9 + final_features_set10\n",
    "features = [feature_names[i] for i in final_features_set]"
   ]
  },
  {
   "cell_type": "code",
   "execution_count": 13,
   "metadata": {
    "colab": {
     "base_uri": "https://localhost:8080/"
    },
    "id": "mIlxaswHlg5U",
    "outputId": "0de6d6dc-5352-49af-a115-2d7e5bbb5a45"
   },
   "outputs": [
    {
     "name": "stdout",
     "output_type": "stream",
     "text": [
      "Number of features: 57\n",
      "Overall for all labels:\n",
      "B_BLOK_S_n 1\n",
      "FIB_G_POST 1\n",
      "GB 1\n",
      "LID_S_n 1\n",
      "MP_TP_POST 1\n",
      "NA_R_1_n 1\n",
      "NOT_NA_1_n 1\n",
      "NOT_NA_2_n 1\n",
      "O_L_POST 1\n",
      "SEX 1\n",
      "SIM_GIPERT 1\n",
      "ZSN_A 1\n",
      "fibr_ter_01 1\n",
      "fibr_ter_08 1\n",
      "n_p_ecg_p_11 1\n",
      "n_p_ecg_p_12 1\n",
      "n_r_ecg_p_01 1\n",
      "n_r_ecg_p_08 1\n",
      "n_r_ecg_p_09 1\n",
      "n_r_ecg_p_10 1\n",
      "nr_03 1\n",
      "post_im 1\n",
      "ritm_ecg_p_02 1\n",
      "ritm_ecg_p_04 1\n",
      "ritm_ecg_p_06 1\n",
      "ritm_ecg_p_07 1\n",
      "zab_leg_01 1\n",
      "zab_leg_02 1\n",
      "D_AD_ORIT 2\n",
      "INF_ANAM 2\n",
      "NA_R_2_n 2\n",
      "R_AB_1_n 2\n",
      "R_AB_2_n 2\n",
      "endocr_01 2\n",
      "fibr_ter_07 2\n",
      "inf_im 2\n",
      "lat_im 2\n",
      "nr_11 2\n",
      "DLIT_AG 3\n",
      "FK_STENOK 3\n",
      "GIPER_NA 3\n",
      "NA_R_3_n 3\n",
      "NITR_S 3\n",
      "R_AB_3_n 3\n",
      "TIME_B_S 3\n",
      "GIPO_K 4\n",
      "ROE 4\n",
      "STENOK_AN 4\n",
      "ant_im 4\n",
      "ALT_BLOOD 5\n",
      "IBS_POST 5\n",
      "K_BLOOD 5\n",
      "AST_BLOOD 6\n",
      "L_BLOOD 7\n",
      "NA_BLOOD 7\n",
      "S_AD_ORIT 7\n",
      "AGE 9\n"
     ]
    }
   ],
   "source": [
    "values, counts = np.unique(features, return_counts=True)\n",
    "print(\"Number of features:\", len(values))\n",
    "labels_histogram = dict(zip(values, counts))\n",
    "labels_histogram = dict(sorted(labels_histogram.items(), key=lambda x:x[1]))\n",
    "print(\"Overall for all labels:\")\n",
    "for item in labels_histogram:\n",
    "     print (item, labels_histogram[item])"
   ]
  },
  {
   "cell_type": "code",
   "execution_count": 14,
   "metadata": {
    "colab": {
     "base_uri": "https://localhost:8080/"
    },
    "id": "DKbyZqGGlxdy",
    "outputId": "c6d458d9-dcbc-44ce-f2aa-e5d46e89c9ff"
   },
   "outputs": [
    {
     "name": "stdout",
     "output_type": "stream",
     "text": [
      "Featues to use in subsequent analysis: ['AGE', 'ALT_BLOOD', 'AST_BLOOD', 'B_BLOK_S_n', 'DLIT_AG', 'D_AD_ORIT', 'FIB_G_POST', 'FK_STENOK', 'GB', 'GIPER_NA', 'GIPO_K', 'IBS_POST', 'INF_ANAM', 'K_BLOOD', 'LID_S_n', 'L_BLOOD', 'MP_TP_POST', 'NA_BLOOD', 'NA_R_1_n', 'NA_R_2_n', 'NA_R_3_n', 'NITR_S', 'NOT_NA_1_n', 'NOT_NA_2_n', 'O_L_POST', 'ROE', 'R_AB_1_n', 'R_AB_2_n', 'R_AB_3_n', 'SEX', 'SIM_GIPERT', 'STENOK_AN', 'S_AD_ORIT', 'TIME_B_S', 'ZSN_A', 'ant_im', 'endocr_01', 'fibr_ter_01', 'fibr_ter_07', 'fibr_ter_08', 'inf_im', 'lat_im', 'n_p_ecg_p_11', 'n_p_ecg_p_12', 'n_r_ecg_p_01', 'n_r_ecg_p_08', 'n_r_ecg_p_09', 'n_r_ecg_p_10', 'nr_03', 'nr_11', 'post_im', 'ritm_ecg_p_02', 'ritm_ecg_p_04', 'ritm_ecg_p_06', 'ritm_ecg_p_07', 'zab_leg_01', 'zab_leg_02']\n"
     ]
    }
   ],
   "source": [
    "# Features to use for imputation\n",
    "print(\"Featues to use in subsequent analysis:\", values.tolist())\n",
    "label = df2.columns[105:].tolist()\n",
    "all = values.tolist() + label"
   ]
  },
  {
   "cell_type": "code",
   "execution_count": 15,
   "metadata": {
    "colab": {
     "base_uri": "https://localhost:8080/",
     "height": 364
    },
    "id": "YoqybjmQm7aG",
    "outputId": "68d67952-fac3-4bc8-a916-2f930a35e0a3"
   },
   "outputs": [
    {
     "data": {
      "text/html": [
       "<div>\n",
       "<style scoped>\n",
       "    .dataframe tbody tr th:only-of-type {\n",
       "        vertical-align: middle;\n",
       "    }\n",
       "\n",
       "    .dataframe tbody tr th {\n",
       "        vertical-align: top;\n",
       "    }\n",
       "\n",
       "    .dataframe thead th {\n",
       "        text-align: right;\n",
       "    }\n",
       "</style>\n",
       "<table border=\"1\" class=\"dataframe\">\n",
       "  <thead>\n",
       "    <tr style=\"text-align: right;\">\n",
       "      <th></th>\n",
       "      <th>AGE</th>\n",
       "      <th>ALT_BLOOD</th>\n",
       "      <th>AST_BLOOD</th>\n",
       "      <th>B_BLOK_S_n</th>\n",
       "      <th>DLIT_AG</th>\n",
       "      <th>D_AD_ORIT</th>\n",
       "      <th>FIB_G_POST</th>\n",
       "      <th>FK_STENOK</th>\n",
       "      <th>GB</th>\n",
       "      <th>GIPER_NA</th>\n",
       "      <th>...</th>\n",
       "      <th>JELUD_TAH</th>\n",
       "      <th>FIBR_JELUD</th>\n",
       "      <th>A_V_BLOK</th>\n",
       "      <th>OTEK_LANC</th>\n",
       "      <th>RAZRIV</th>\n",
       "      <th>DRESSLER</th>\n",
       "      <th>ZSN</th>\n",
       "      <th>REC_IM</th>\n",
       "      <th>P_IM_STEN</th>\n",
       "      <th>LET_IS</th>\n",
       "    </tr>\n",
       "  </thead>\n",
       "  <tbody>\n",
       "    <tr>\n",
       "      <th>count</th>\n",
       "      <td>1692.000000</td>\n",
       "      <td>1416.000000</td>\n",
       "      <td>1415.000000</td>\n",
       "      <td>1689.000000</td>\n",
       "      <td>1452.000000</td>\n",
       "      <td>1433.000000</td>\n",
       "      <td>1688.000000</td>\n",
       "      <td>1627.000000</td>\n",
       "      <td>1691.000000</td>\n",
       "      <td>1325.000000</td>\n",
       "      <td>...</td>\n",
       "      <td>1700.000000</td>\n",
       "      <td>1700.000000</td>\n",
       "      <td>1700.000000</td>\n",
       "      <td>1700.000000</td>\n",
       "      <td>1700.000000</td>\n",
       "      <td>1700.000000</td>\n",
       "      <td>1700.000000</td>\n",
       "      <td>1700.000000</td>\n",
       "      <td>1700.000000</td>\n",
       "      <td>1700.000000</td>\n",
       "    </tr>\n",
       "    <tr>\n",
       "      <th>mean</th>\n",
       "      <td>61.856974</td>\n",
       "      <td>0.481455</td>\n",
       "      <td>0.263717</td>\n",
       "      <td>0.127294</td>\n",
       "      <td>3.340220</td>\n",
       "      <td>82.749477</td>\n",
       "      <td>0.008886</td>\n",
       "      <td>1.205286</td>\n",
       "      <td>1.393258</td>\n",
       "      <td>0.022642</td>\n",
       "      <td>...</td>\n",
       "      <td>0.024706</td>\n",
       "      <td>0.041765</td>\n",
       "      <td>0.033529</td>\n",
       "      <td>0.093529</td>\n",
       "      <td>0.031765</td>\n",
       "      <td>0.044118</td>\n",
       "      <td>0.231765</td>\n",
       "      <td>0.093529</td>\n",
       "      <td>0.087059</td>\n",
       "      <td>0.477059</td>\n",
       "    </tr>\n",
       "    <tr>\n",
       "      <th>std</th>\n",
       "      <td>11.259936</td>\n",
       "      <td>0.387261</td>\n",
       "      <td>0.201802</td>\n",
       "      <td>0.333401</td>\n",
       "      <td>3.098646</td>\n",
       "      <td>18.321063</td>\n",
       "      <td>0.093875</td>\n",
       "      <td>1.040814</td>\n",
       "      <td>1.088803</td>\n",
       "      <td>0.148814</td>\n",
       "      <td>...</td>\n",
       "      <td>0.155273</td>\n",
       "      <td>0.200110</td>\n",
       "      <td>0.180067</td>\n",
       "      <td>0.291259</td>\n",
       "      <td>0.175425</td>\n",
       "      <td>0.205417</td>\n",
       "      <td>0.422084</td>\n",
       "      <td>0.291259</td>\n",
       "      <td>0.282004</td>\n",
       "      <td>1.381818</td>\n",
       "    </tr>\n",
       "    <tr>\n",
       "      <th>min</th>\n",
       "      <td>26.000000</td>\n",
       "      <td>0.030000</td>\n",
       "      <td>0.040000</td>\n",
       "      <td>0.000000</td>\n",
       "      <td>0.000000</td>\n",
       "      <td>0.000000</td>\n",
       "      <td>0.000000</td>\n",
       "      <td>0.000000</td>\n",
       "      <td>0.000000</td>\n",
       "      <td>0.000000</td>\n",
       "      <td>...</td>\n",
       "      <td>0.000000</td>\n",
       "      <td>0.000000</td>\n",
       "      <td>0.000000</td>\n",
       "      <td>0.000000</td>\n",
       "      <td>0.000000</td>\n",
       "      <td>0.000000</td>\n",
       "      <td>0.000000</td>\n",
       "      <td>0.000000</td>\n",
       "      <td>0.000000</td>\n",
       "      <td>0.000000</td>\n",
       "    </tr>\n",
       "    <tr>\n",
       "      <th>25%</th>\n",
       "      <td>54.000000</td>\n",
       "      <td>0.230000</td>\n",
       "      <td>0.150000</td>\n",
       "      <td>0.000000</td>\n",
       "      <td>0.000000</td>\n",
       "      <td>80.000000</td>\n",
       "      <td>0.000000</td>\n",
       "      <td>0.000000</td>\n",
       "      <td>0.000000</td>\n",
       "      <td>0.000000</td>\n",
       "      <td>...</td>\n",
       "      <td>0.000000</td>\n",
       "      <td>0.000000</td>\n",
       "      <td>0.000000</td>\n",
       "      <td>0.000000</td>\n",
       "      <td>0.000000</td>\n",
       "      <td>0.000000</td>\n",
       "      <td>0.000000</td>\n",
       "      <td>0.000000</td>\n",
       "      <td>0.000000</td>\n",
       "      <td>0.000000</td>\n",
       "    </tr>\n",
       "    <tr>\n",
       "      <th>50%</th>\n",
       "      <td>63.000000</td>\n",
       "      <td>0.380000</td>\n",
       "      <td>0.220000</td>\n",
       "      <td>0.000000</td>\n",
       "      <td>3.000000</td>\n",
       "      <td>80.000000</td>\n",
       "      <td>0.000000</td>\n",
       "      <td>2.000000</td>\n",
       "      <td>2.000000</td>\n",
       "      <td>0.000000</td>\n",
       "      <td>...</td>\n",
       "      <td>0.000000</td>\n",
       "      <td>0.000000</td>\n",
       "      <td>0.000000</td>\n",
       "      <td>0.000000</td>\n",
       "      <td>0.000000</td>\n",
       "      <td>0.000000</td>\n",
       "      <td>0.000000</td>\n",
       "      <td>0.000000</td>\n",
       "      <td>0.000000</td>\n",
       "      <td>0.000000</td>\n",
       "    </tr>\n",
       "    <tr>\n",
       "      <th>75%</th>\n",
       "      <td>70.000000</td>\n",
       "      <td>0.610000</td>\n",
       "      <td>0.330000</td>\n",
       "      <td>0.000000</td>\n",
       "      <td>7.000000</td>\n",
       "      <td>90.000000</td>\n",
       "      <td>0.000000</td>\n",
       "      <td>2.000000</td>\n",
       "      <td>2.000000</td>\n",
       "      <td>0.000000</td>\n",
       "      <td>...</td>\n",
       "      <td>0.000000</td>\n",
       "      <td>0.000000</td>\n",
       "      <td>0.000000</td>\n",
       "      <td>0.000000</td>\n",
       "      <td>0.000000</td>\n",
       "      <td>0.000000</td>\n",
       "      <td>0.000000</td>\n",
       "      <td>0.000000</td>\n",
       "      <td>0.000000</td>\n",
       "      <td>0.000000</td>\n",
       "    </tr>\n",
       "    <tr>\n",
       "      <th>max</th>\n",
       "      <td>92.000000</td>\n",
       "      <td>3.000000</td>\n",
       "      <td>2.150000</td>\n",
       "      <td>1.000000</td>\n",
       "      <td>7.000000</td>\n",
       "      <td>190.000000</td>\n",
       "      <td>1.000000</td>\n",
       "      <td>4.000000</td>\n",
       "      <td>3.000000</td>\n",
       "      <td>1.000000</td>\n",
       "      <td>...</td>\n",
       "      <td>1.000000</td>\n",
       "      <td>1.000000</td>\n",
       "      <td>1.000000</td>\n",
       "      <td>1.000000</td>\n",
       "      <td>1.000000</td>\n",
       "      <td>1.000000</td>\n",
       "      <td>1.000000</td>\n",
       "      <td>1.000000</td>\n",
       "      <td>1.000000</td>\n",
       "      <td>7.000000</td>\n",
       "    </tr>\n",
       "  </tbody>\n",
       "</table>\n",
       "<p>8 rows × 69 columns</p>\n",
       "</div>"
      ],
      "text/plain": [
       "               AGE    ALT_BLOOD    AST_BLOOD   B_BLOK_S_n      DLIT_AG  \\\n",
       "count  1692.000000  1416.000000  1415.000000  1689.000000  1452.000000   \n",
       "mean     61.856974     0.481455     0.263717     0.127294     3.340220   \n",
       "std      11.259936     0.387261     0.201802     0.333401     3.098646   \n",
       "min      26.000000     0.030000     0.040000     0.000000     0.000000   \n",
       "25%      54.000000     0.230000     0.150000     0.000000     0.000000   \n",
       "50%      63.000000     0.380000     0.220000     0.000000     3.000000   \n",
       "75%      70.000000     0.610000     0.330000     0.000000     7.000000   \n",
       "max      92.000000     3.000000     2.150000     1.000000     7.000000   \n",
       "\n",
       "         D_AD_ORIT   FIB_G_POST    FK_STENOK           GB     GIPER_NA  ...  \\\n",
       "count  1433.000000  1688.000000  1627.000000  1691.000000  1325.000000  ...   \n",
       "mean     82.749477     0.008886     1.205286     1.393258     0.022642  ...   \n",
       "std      18.321063     0.093875     1.040814     1.088803     0.148814  ...   \n",
       "min       0.000000     0.000000     0.000000     0.000000     0.000000  ...   \n",
       "25%      80.000000     0.000000     0.000000     0.000000     0.000000  ...   \n",
       "50%      80.000000     0.000000     2.000000     2.000000     0.000000  ...   \n",
       "75%      90.000000     0.000000     2.000000     2.000000     0.000000  ...   \n",
       "max     190.000000     1.000000     4.000000     3.000000     1.000000  ...   \n",
       "\n",
       "         JELUD_TAH   FIBR_JELUD     A_V_BLOK    OTEK_LANC       RAZRIV  \\\n",
       "count  1700.000000  1700.000000  1700.000000  1700.000000  1700.000000   \n",
       "mean      0.024706     0.041765     0.033529     0.093529     0.031765   \n",
       "std       0.155273     0.200110     0.180067     0.291259     0.175425   \n",
       "min       0.000000     0.000000     0.000000     0.000000     0.000000   \n",
       "25%       0.000000     0.000000     0.000000     0.000000     0.000000   \n",
       "50%       0.000000     0.000000     0.000000     0.000000     0.000000   \n",
       "75%       0.000000     0.000000     0.000000     0.000000     0.000000   \n",
       "max       1.000000     1.000000     1.000000     1.000000     1.000000   \n",
       "\n",
       "          DRESSLER          ZSN       REC_IM    P_IM_STEN       LET_IS  \n",
       "count  1700.000000  1700.000000  1700.000000  1700.000000  1700.000000  \n",
       "mean      0.044118     0.231765     0.093529     0.087059     0.477059  \n",
       "std       0.205417     0.422084     0.291259     0.282004     1.381818  \n",
       "min       0.000000     0.000000     0.000000     0.000000     0.000000  \n",
       "25%       0.000000     0.000000     0.000000     0.000000     0.000000  \n",
       "50%       0.000000     0.000000     0.000000     0.000000     0.000000  \n",
       "75%       0.000000     0.000000     0.000000     0.000000     0.000000  \n",
       "max       1.000000     1.000000     1.000000     1.000000     7.000000  \n",
       "\n",
       "[8 rows x 69 columns]"
      ]
     },
     "execution_count": 15,
     "metadata": {},
     "output_type": "execute_result"
    }
   ],
   "source": [
    "df3 = df2.loc[:, all]\n",
    "df3 = df3.reset_index(drop=True)\n",
    "df3.describe()"
   ]
  },
  {
   "cell_type": "code",
   "execution_count": 18,
   "metadata": {
    "id": "5-FOfgoEn6Pb"
   },
   "outputs": [],
   "source": [
    "# Export the dataset with selected features for further processing\n",
    "# df3.to_csv(\"Feature_selected.csv\", index = False)"
   ]
  }
 ],
 "metadata": {
  "colab": {
   "collapsed_sections": [
    "gmbgwkqg2lDA",
    "1XkmLo3k0k3w",
    "lzwUn81Q4XYB",
    "dLohl6rC9D0X"
   ],
   "name": "Data_Preprocessing_1.ipynb",
   "provenance": []
  },
  "kernelspec": {
   "display_name": "Python 3",
   "language": "python",
   "name": "python3"
  },
  "language_info": {
   "codemirror_mode": {
    "name": "ipython",
    "version": 3
   },
   "file_extension": ".py",
   "mimetype": "text/x-python",
   "name": "python",
   "nbconvert_exporter": "python",
   "pygments_lexer": "ipython3",
   "version": "3.8.8"
  }
 },
 "nbformat": 4,
 "nbformat_minor": 4
}
